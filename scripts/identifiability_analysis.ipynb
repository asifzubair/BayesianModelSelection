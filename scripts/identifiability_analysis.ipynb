{
 "cells": [
  {
   "cell_type": "code",
   "execution_count": 165,
   "metadata": {},
   "outputs": [],
   "source": [
    "import sys\n",
    "sys.path.append(\"../\")\n",
    "import models\n",
    "import models_utils\n",
    "from mcmc_utils import *\n",
    "from utils import *\n",
    "\n",
    "%matplotlib inline"
   ]
  },
  {
   "cell_type": "code",
   "execution_count": 166,
   "metadata": {},
   "outputs": [],
   "source": [
    "import seaborn as sns\n",
    "import math\n",
    "import pandas as pd"
   ]
  },
  {
   "cell_type": "code",
   "execution_count": 167,
   "metadata": {},
   "outputs": [],
   "source": [
    "m = models.PapaModelC8()\n",
    "predict = m.predict\n",
    "data = m.y\n",
    "error = 0.1\n",
    "weight_vector = m.domains\n",
    "\n",
    "prior_min = [0.0001, 0.0001, 0.0001, 1., 3.5, 3.5, 3.5, 3.5]\n",
    "prior_max = [1., 2., 2., 200., 9., 9., 9., 9.]"
   ]
  },
  {
   "cell_type": "code",
   "execution_count": null,
   "metadata": {},
   "outputs": [],
   "source": [
    "param_values = []\n",
    "SAMPLES = 5000\n",
    "for index in range(SAMPLES):\n",
    "    while(True):\n",
    "        params = initialise(prior_min, prior_max)\n",
    "        LL = calculate_log_likelihood(data, error, weight_vector, params, m.predict)\n",
    "        if (not math.isnan(LL)):\n",
    "            break\n",
    "    params.append(LL)\n",
    "    param_values.append(params)"
   ]
  },
  {
   "cell_type": "code",
   "execution_count": null,
   "metadata": {},
   "outputs": [],
   "source": [
    "param_values = pd.DataFrame(param_values, columns = [\"alpha\", \"D\", \"Co\", \"Ns\", \"K\", \"K1\", \"K2\", \"K3\", \"LL\"])"
   ]
  },
  {
   "cell_type": "code",
   "execution_count": null,
   "metadata": {},
   "outputs": [],
   "source": [
    "THRESH = -1500\n",
    "print sum(param_values[\"LL\"] > THRESH)\n",
    "print param_values[param_values[\"LL\"] > THRESH].mean()\n",
    "print param_values[param_values[\"LL\"] > THRESH].std()"
   ]
  }
 ],
 "metadata": {
  "kernelspec": {
   "display_name": "Python 2",
   "language": "python",
   "name": "python2"
  },
  "language_info": {
   "codemirror_mode": {
    "name": "ipython",
    "version": 2
   },
   "file_extension": ".py",
   "mimetype": "text/x-python",
   "name": "python",
   "nbconvert_exporter": "python",
   "pygments_lexer": "ipython2",
   "version": "2.7.14"
  }
 },
 "nbformat": 4,
 "nbformat_minor": 2
}
