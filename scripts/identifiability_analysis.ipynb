{
 "cells": [
  {
   "cell_type": "code",
   "execution_count": 12,
   "metadata": {},
   "outputs": [],
   "source": [
    "import sys\n",
    "sys.path.append(\"../\")\n",
    "import models\n",
    "import models_utils\n",
    "from mcmc_utils import *\n",
    "from utils import *\n",
    "\n",
    "%matplotlib inline"
   ]
  },
  {
   "cell_type": "code",
   "execution_count": 13,
   "metadata": {},
   "outputs": [],
   "source": [
    "import seaborn as sns\n",
    "import math\n",
    "import pandas as pd"
   ]
  },
  {
   "cell_type": "code",
   "execution_count": 14,
   "metadata": {},
   "outputs": [],
   "source": [
    "m = models.PapaModelC8()\n",
    "predict = m.predict\n",
    "data = m.y\n",
    "error = 0.1\n",
    "weight_vector = m.domains\n",
    "\n",
    "prior_min = [0.0001, 0.0001, 0.0001, 1., 3.5, 3.5, 3.5, 3.5]\n",
    "prior_max = [1., 2., 2., 200., 9., 9., 9., 9.]"
   ]
  },
  {
   "cell_type": "code",
   "execution_count": 51,
   "metadata": {},
   "outputs": [],
   "source": [
    "param_values = []\n",
    "SAMPLES = 5000\n",
    "for index in range(SAMPLES):\n",
    "    while(True):\n",
    "        params = initialise(prior_min, prior_max)\n",
    "        LL = calculate_log_likelihood(data, error, weight_vector, params, m.predict)\n",
    "        if (not math.isnan(LL)):\n",
    "            break\n",
    "    params.append(LL)\n",
    "    param_values.append(params)\n",
    "colmn_names = [\"alpha\", \"D\", \"Co\", \"Ns\", \"K\", \"K1\", \"K2\", \"K3\", \"LL\"]\n",
    "param_values = pd.DataFrame(param_values, columns = colmn_names)"
   ]
  },
  {
   "cell_type": "code",
   "execution_count": 52,
   "metadata": {},
   "outputs": [
    {
     "name": "stdout",
     "output_type": "stream",
     "text": [
      "116\n",
      "alpha       0.222064\n",
      "D           1.049698\n",
      "Co          1.156814\n",
      "Ns        109.982759\n",
      "K           5.997798\n",
      "K1          6.375816\n",
      "K2          6.579531\n",
      "K3          6.454578\n",
      "LL      -1242.090245\n",
      "dtype: float64\n",
      "alpha      0.269652\n",
      "D          0.510390\n",
      "Co         0.543942\n",
      "Ns        57.922284\n",
      "K          1.146080\n",
      "K1         1.425925\n",
      "K2         1.564212\n",
      "K3         1.293227\n",
      "LL       249.584456\n",
      "dtype: float64\n"
     ]
    }
   ],
   "source": [
    "THRESH = -1500\n",
    "print sum(param_values[\"LL\"] > THRESH)\n",
    "print param_values[param_values[\"LL\"] > THRESH].mean()\n",
    "print param_values[param_values[\"LL\"] > THRESH].std()\n",
    "parm_vals = param_values[param_values[\"LL\"] > THRESH]"
   ]
  },
  {
   "cell_type": "code",
   "execution_count": 53,
   "metadata": {},
   "outputs": [
    {
     "data": {
      "text/plain": [
       "<matplotlib.axes._subplots.AxesSubplot at 0x1a261d96d0>"
      ]
     },
     "execution_count": 53,
     "metadata": {},
     "output_type": "execute_result"
    },
    {
     "data": {
      "image/png": "[encoded data removed]",
      "text/plain": [
       "<matplotlib.figure.Figure at 0x1a25e2c310>"
      ]
     },
     "metadata": {},
     "output_type": "display_data"
    }
   ],
   "source": [
    "corr = parm_vals[[\"alpha\", \"D\", \"Co\", \"Ns\", \"K\", \"K1\", \"K2\", \"K3\"]].corr(method = \"spearman\")\n",
    "\n",
    "mask = np.zeros_like(corr, dtype=np.bool)\n",
    "mask[np.triu_indices_from(mask)] = True\n",
    "\n",
    "# Set up the matplotlib figure\n",
    "f, ax = plt.subplots(figsize=(11, 9))\n",
    "\n",
    "# Generate a custom diverging colormap\n",
    "cmap = sns.diverging_palette(220, 10, as_cmap=True)\n",
    "\n",
    "# Draw the heatmap with the mask and correct aspect ratio\n",
    "sns.heatmap(corr, mask=mask, cmap=cmap, vmax=.5, center=0,\n",
    "            square=True, linewidths=.5, cbar_kws={\"shrink\": .5}, annot = True)"
   ]
  },
  {
   "cell_type": "code",
   "execution_count": 56,
   "metadata": {},
   "outputs": [
    {
     "data": {
      "text/html": [
       "<div>\n",
       "<style scoped>\n",
       "    .dataframe tbody tr th:only-of-type {\n",
       "        vertical-align: middle;\n",
       "    }\n",
       "\n",
       "    .dataframe tbody tr th {\n",
       "        vertical-align: top;\n",
       "    }\n",
       "\n",
       "    .dataframe thead th {\n",
       "        text-align: right;\n",
       "    }\n",
       "</style>\n",
       "<table border=\"1\" class=\"dataframe\">\n",
       "  <thead>\n",
       "    <tr style=\"text-align: right;\">\n",
       "      <th></th>\n",
       "      <th>alpha</th>\n",
       "      <th>D</th>\n",
       "      <th>Co</th>\n",
       "      <th>Ns</th>\n",
       "      <th>K</th>\n",
       "      <th>K1</th>\n",
       "      <th>K2</th>\n",
       "      <th>K3</th>\n",
       "    </tr>\n",
       "  </thead>\n",
       "  <tbody>\n",
       "    <tr>\n",
       "      <th>alpha</th>\n",
       "      <td>1.000000</td>\n",
       "      <td>0.286065</td>\n",
       "      <td>0.074563</td>\n",
       "      <td>0.189804</td>\n",
       "      <td>0.121770</td>\n",
       "      <td>0.357214</td>\n",
       "      <td>0.418053</td>\n",
       "      <td>-0.102380</td>\n",
       "    </tr>\n",
       "    <tr>\n",
       "      <th>D</th>\n",
       "      <td>0.286065</td>\n",
       "      <td>1.000000</td>\n",
       "      <td>-0.028424</td>\n",
       "      <td>-0.075064</td>\n",
       "      <td>0.032730</td>\n",
       "      <td>0.223527</td>\n",
       "      <td>0.001507</td>\n",
       "      <td>-0.061169</td>\n",
       "    </tr>\n",
       "    <tr>\n",
       "      <th>Co</th>\n",
       "      <td>0.074563</td>\n",
       "      <td>-0.028424</td>\n",
       "      <td>1.000000</td>\n",
       "      <td>-0.007758</td>\n",
       "      <td>-0.028855</td>\n",
       "      <td>-0.075485</td>\n",
       "      <td>0.088410</td>\n",
       "      <td>-0.158551</td>\n",
       "    </tr>\n",
       "    <tr>\n",
       "      <th>Ns</th>\n",
       "      <td>0.189804</td>\n",
       "      <td>-0.075064</td>\n",
       "      <td>-0.007758</td>\n",
       "      <td>1.000000</td>\n",
       "      <td>-0.163804</td>\n",
       "      <td>-0.026604</td>\n",
       "      <td>-0.071089</td>\n",
       "      <td>-0.124417</td>\n",
       "    </tr>\n",
       "    <tr>\n",
       "      <th>K</th>\n",
       "      <td>0.121770</td>\n",
       "      <td>0.032730</td>\n",
       "      <td>-0.028855</td>\n",
       "      <td>-0.163804</td>\n",
       "      <td>1.000000</td>\n",
       "      <td>0.238873</td>\n",
       "      <td>0.009172</td>\n",
       "      <td>-0.204298</td>\n",
       "    </tr>\n",
       "    <tr>\n",
       "      <th>K1</th>\n",
       "      <td>0.357214</td>\n",
       "      <td>0.223527</td>\n",
       "      <td>-0.075485</td>\n",
       "      <td>-0.026604</td>\n",
       "      <td>0.238873</td>\n",
       "      <td>1.000000</td>\n",
       "      <td>-0.040503</td>\n",
       "      <td>-0.503910</td>\n",
       "    </tr>\n",
       "    <tr>\n",
       "      <th>K2</th>\n",
       "      <td>0.418053</td>\n",
       "      <td>0.001507</td>\n",
       "      <td>0.088410</td>\n",
       "      <td>-0.071089</td>\n",
       "      <td>0.009172</td>\n",
       "      <td>-0.040503</td>\n",
       "      <td>1.000000</td>\n",
       "      <td>0.138092</td>\n",
       "    </tr>\n",
       "    <tr>\n",
       "      <th>K3</th>\n",
       "      <td>-0.102380</td>\n",
       "      <td>-0.061169</td>\n",
       "      <td>-0.158551</td>\n",
       "      <td>-0.124417</td>\n",
       "      <td>-0.204298</td>\n",
       "      <td>-0.503910</td>\n",
       "      <td>0.138092</td>\n",
       "      <td>1.000000</td>\n",
       "    </tr>\n",
       "  </tbody>\n",
       "</table>\n",
       "</div>"
      ],
      "text/plain": [
       "          alpha         D        Co        Ns         K        K1        K2  \\\n",
       "alpha  1.000000  0.286065  0.074563  0.189804  0.121770  0.357214  0.418053   \n",
       "D      0.286065  1.000000 -0.028424 -0.075064  0.032730  0.223527  0.001507   \n",
       "Co     0.074563 -0.028424  1.000000 -0.007758 -0.028855 -0.075485  0.088410   \n",
       "Ns     0.189804 -0.075064 -0.007758  1.000000 -0.163804 -0.026604 -0.071089   \n",
       "K      0.121770  0.032730 -0.028855 -0.163804  1.000000  0.238873  0.009172   \n",
       "K1     0.357214  0.223527 -0.075485 -0.026604  0.238873  1.000000 -0.040503   \n",
       "K2     0.418053  0.001507  0.088410 -0.071089  0.009172 -0.040503  1.000000   \n",
       "K3    -0.102380 -0.061169 -0.158551 -0.124417 -0.204298 -0.503910  0.138092   \n",
       "\n",
       "             K3  \n",
       "alpha -0.102380  \n",
       "D     -0.061169  \n",
       "Co    -0.158551  \n",
       "Ns    -0.124417  \n",
       "K     -0.204298  \n",
       "K1    -0.503910  \n",
       "K2     0.138092  \n",
       "K3     1.000000  "
      ]
     },
     "execution_count": 56,
     "metadata": {},
     "output_type": "execute_result"
    }
   ],
   "source": [
    "corr"
   ]
  }
 ],
 "metadata": {
  "kernelspec": {
   "display_name": "Python 2",
   "language": "python",
   "name": "python2"
  },
  "language_info": {
   "codemirror_mode": {
    "name": "ipython",
    "version": 2
   },
   "file_extension": ".py",
   "mimetype": "text/x-python",
   "name": "python",
   "nbconvert_exporter": "python",
   "pygments_lexer": "ipython2",
   "version": "2.7.14"
  }
 },
 "nbformat": 4,
 "nbformat_minor": 2
}
