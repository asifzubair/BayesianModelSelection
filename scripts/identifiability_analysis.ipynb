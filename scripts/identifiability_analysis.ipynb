{
 "cells": [
  {
   "cell_type": "code",
   "execution_count": 12,
   "metadata": {},
   "outputs": [],
   "source": [
    "import sys\n",
    "sys.path.append(\"../\")\n",
    "import models\n",
    "import models_utils\n",
    "from mcmc_utils import *\n",
    "from utils import *\n",
    "\n",
    "%matplotlib inline"
   ]
  },
  {
   "cell_type": "code",
   "execution_count": 13,
   "metadata": {},
   "outputs": [],
   "source": [
    "import seaborn as sns\n",
    "import math\n",
    "import pandas as pd"
   ]
  },
  {
   "cell_type": "code",
   "execution_count": 76,
   "metadata": {},
   "outputs": [],
   "source": [
    "m = models.PapaModelC8()\n",
    "predict = m.predict\n",
    "data = m.y\n",
    "error = 0.01\n",
    "weight_vector = m.domains\n",
    "\n",
    "prior_min = [0.0001, 0.0001, 0.0001, 1., 3.5, 3.5, 3.5, 3.5]\n",
    "prior_max = [1., 2., 2., 200., 9., 9., 9., 9.]"
   ]
  },
  {
   "cell_type": "code",
   "execution_count": 77,
   "metadata": {},
   "outputs": [],
   "source": [
    "param_values = []\n",
    "SAMPLES = 20000\n",
    "for index in range(SAMPLES):\n",
    "    while(True):\n",
    "        params = initialise(prior_min, prior_max)\n",
    "        LL = calculate_log_likelihood(data, error, weight_vector, params, m.predict)\n",
    "        if (not math.isnan(LL)):\n",
    "            break\n",
    "    params.append(LL)\n",
    "    param_values.append(params)\n",
    "colmn_names = [\"alpha\", \"D\", \"Co\", \"Ns\", \"K\", \"K1\", \"K2\", \"K3\", \"LL\"]\n",
    "param_values = pd.DataFrame(param_values, columns = colmn_names)"
   ]
  },
  {
   "cell_type": "code",
   "execution_count": 78,
   "metadata": {},
   "outputs": [
    {
     "data": {
      "text/plain": [
       "-23735.315903377523"
      ]
     },
     "execution_count": 78,
     "metadata": {},
     "output_type": "execute_result"
    }
   ],
   "source": [
    "p = [0.18137638406, 1.54257972154, 0.0721779657506, 187.0, 5.53920680068, 6.13046808193, 6.11636776472, 6.24818280438]\n",
    "calculate_log_likelihood(data, error, weight_vector, p, m.predict)"
   ]
  },
  {
   "cell_type": "code",
   "execution_count": 133,
   "metadata": {},
   "outputs": [
    {
     "name": "stdout",
     "output_type": "stream",
     "text": [
      "296\n"
     ]
    }
   ],
   "source": [
    "THRESH = -170000\n",
    "print sum(param_values[\"LL\"] > THRESH)\n",
    "#print param_values[param_values[\"LL\"] > THRESH].mean()\n",
    "#print param_values[param_values[\"LL\"] > THRESH].std()\n",
    "parm_vals = param_values[param_values[\"LL\"] > THRESH]\n",
    "corr = parm_vals[[\"alpha\", \"D\", \"Co\", \"Ns\", \"K\", \"K1\", \"K2\", \"K3\"]].corr(method = \"spearman\")"
   ]
  },
  {
   "cell_type": "code",
   "execution_count": 131,
   "metadata": {},
   "outputs": [
    {
     "data": {
      "text/plain": [
       "<matplotlib.axes._subplots.AxesSubplot at 0x1a29b85390>"
      ]
     },
     "execution_count": 131,
     "metadata": {},
     "output_type": "execute_result"
    },
    {
     "data": {
      "image/png": "[encoded data removed]",
      "text/plain": [
       "<matplotlib.figure.Figure at 0x1a29cf7250>"
      ]
     },
     "metadata": {},
     "output_type": "display_data"
    }
   ],
   "source": [
    "mask = np.zeros_like(corr, dtype=np.bool)\n",
    "mask[np.triu_indices_from(mask)] = True\n",
    "\n",
    "# Set up the matplotlib figure\n",
    "f, ax = plt.subplots(figsize=(11, 9))\n",
    "\n",
    "# Generate a custom diverging colormap\n",
    "cmap = sns.diverging_palette(220, 10, as_cmap=True)\n",
    "\n",
    "# Draw the heatmap with the mask and correct aspect ratio\n",
    "sns.heatmap(corr, mask=mask, cmap=cmap, vmax=.15, vmin = -0.15, center=0,\n",
    "            square=True, linewidths=.5, cbar_kws={\"shrink\": .5}, annot = False)"
   ]
  }
 ],
 "metadata": {
  "kernelspec": {
   "display_name": "Python 2",
   "language": "python",
   "name": "python2"
  },
  "language_info": {
   "codemirror_mode": {
    "name": "ipython",
    "version": 2
   },
   "file_extension": ".py",
   "mimetype": "text/x-python",
   "name": "python",
   "nbconvert_exporter": "python",
   "pygments_lexer": "ipython2",
   "version": "2.7.14"
  }
 },
 "nbformat": 4,
 "nbformat_minor": 2
}
