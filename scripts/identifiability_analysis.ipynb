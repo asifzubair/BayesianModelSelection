{
 "cells": [
  {
   "cell_type": "code",
   "execution_count": 1,
   "metadata": {
    "collapsed": true
   },
   "outputs": [],
   "source": [
    "import sys\n",
    "sys.path.append(\"../\")\n",
    "import models\n",
    "import models_utils\n",
    "from mcmc_utils import *\n",
    "from utils import *\n",
    "\n",
    "%matplotlib inline"
   ]
  },
  {
   "cell_type": "code",
   "execution_count": 2,
   "metadata": {
    "collapsed": true
   },
   "outputs": [],
   "source": [
    "import seaborn as sns\n",
    "import math\n",
    "import pandas as pd"
   ]
  },
  {
   "cell_type": "code",
   "execution_count": 4,
   "metadata": {
    "collapsed": false
   },
   "outputs": [],
   "source": [
    "m = models.PapaModelC8()\n",
    "predict = m.predict\n",
    "data = m.y\n",
    "error = 0.1\n",
    "weight_vector = m.domains\n",
    "\n",
    "prior_min = [0.0001, 0.0001, 0.0001, 1., 3.5, 3.5, 3.5, 3.5]\n",
    "prior_max = [1., 2., 2., 200., 9., 9., 9., 9.]"
   ]
  },
  {
   "cell_type": "code",
   "execution_count": null,
   "metadata": {
    "collapsed": true
   },
   "outputs": [],
   "source": [
    "param_values = []\n",
    "SAMPLES = 5000\n",
    "for index in range(SAMPLES):\n",
    "    while(True):\n",
    "        params = initialise(prior_min, prior_max)\n",
    "        LL = calculate_log_likelihood(data, error, weight_vector, params, m.predict)\n",
    "        if (not math.isnan(LL)):\n",
    "            break\n",
    "    params.append(LL)\n",
    "    param_values.append(params)"
   ]
  },
  {
   "cell_type": "code",
   "execution_count": 9,
   "metadata": {
    "collapsed": true
   },
   "outputs": [],
   "source": [
    "colmn_names = [\"alpha\", \"D\", \"Co\", \"Ns\", \"K\", \"K1\", \"K2\", \"K3\", \"LL\"]\n",
    "param_values = pd.DataFrame(param_values, columns = colmn_names)"
   ]
  },
  {
   "cell_type": "code",
   "execution_count": 7,
   "metadata": {
    "collapsed": false
   },
   "outputs": [
    {
     "name": "stdout",
     "output_type": "stream",
     "text": [
      "296\n",
      "alpha       0.243454\n",
      "D           1.077817\n",
      "Co          1.000466\n",
      "Ns        107.165541\n",
      "K           6.092472\n",
      "K1          6.720816\n",
      "K2          6.578896\n",
      "K3          6.533911\n",
      "LL      -1487.257940\n",
      "dtype: float64\n",
      "alpha      0.287298\n",
      "D          0.585150\n",
      "Co         0.558594\n",
      "Ns        59.045024\n",
      "K          1.427340\n",
      "K1         1.473551\n",
      "K2         1.446152\n",
      "K3         1.318027\n",
      "LL       255.298949\n",
      "dtype: float64\n"
     ]
    }
   ],
   "source": [
    "THRESH = -1800\n",
    "print sum(param_values[\"LL\"] > THRESH)\n",
    "print param_values[param_values[\"LL\"] `> THRESH].mean()\n",
    "print param_values[param_values[\"LL\"] > THRESH].std()"
   ]
  },
  {
   "cell_type": "code",
   "execution_count": 20,
   "metadata": {
    "collapsed": false
   },
   "outputs": [],
   "source": [
    "corr = param_values[[\"alpha\", \"D\", \"Co\", \"Ns\", \"K\", \"K1\", \"K2\", \"K3\"]].corr()"
   ]
  },
  {
   "cell_type": "code",
   "execution_count": 21,
   "metadata": {
    "collapsed": false
   },
   "outputs": [
    {
     "data": {
      "text/plain": [
       "<matplotlib.axes._subplots.AxesSubplot at 0x11cd27690>"
      ]
     },
     "execution_count": 21,
     "metadata": {},
     "output_type": "execute_result"
    },
    {
     "data": {
      "image/png": "[encoded data removed]",
      "text/plain": [
       "<matplotlib.figure.Figure at 0x11cdb9790>"
      ]
     },
     "metadata": {},
     "output_type": "display_data"
    }
   ],
   "source": [
    "mask = np.zeros_like(corr, dtype=np.bool)\n",
    "mask[np.triu_indices_from(mask)] = True\n",
    "\n",
    "# Set up the matplotlib figure\n",
    "f, ax = plt.subplots(figsize=(11, 9))\n",
    "\n",
    "# Generate a custom diverging colormap\n",
    "cmap = sns.diverging_palette(220, 10, as_cmap=True)\n",
    "\n",
    "# Draw the heatmap with the mask and correct aspect ratio\n",
    "sns.heatmap(corr, mask=mask, cmap=cmap, vmax=.3, center=0,\n",
    "            square=True, linewidths=.5, cbar_kws={\"shrink\": .5})"
   ]
  }
 ],
 "metadata": {
  "kernelspec": {
   "display_name": "Python 2",
   "language": "python",
   "name": "python2"
  },
  "language_info": {
   "codemirror_mode": {
    "name": "ipython",
    "version": 2
   },
   "file_extension": ".py",
   "mimetype": "text/x-python",
   "name": "python",
   "nbconvert_exporter": "python",
   "pygments_lexer": "ipython2",
   "version": "2.7.11"
  }
 },
 "nbformat": 4,
 "nbformat_minor": 2
}
